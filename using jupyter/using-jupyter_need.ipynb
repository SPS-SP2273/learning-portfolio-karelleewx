{
 "cells": [
  {
   "cell_type": "markdown",
   "id": "eabe7489",
   "metadata": {},
   "source": [
    "he ships hung in the sky in much the same way that bricks don’t.\n"
   ]
  },
  {
   "cell_type": "markdown",
   "id": "698fd539",
   "metadata": {},
   "source": [
    "The ships *hung in the sky* in much the same way that **bricks don’t.**<sup>1</sup><sub>QUOTE</sub>"
   ]
  },
  {
   "cell_type": "markdown",
   "id": "dd4f0b45",
   "metadata": {},
   "source": [
    "HellO"
   ]
  },
  {
   "cell_type": "markdown",
   "id": "377fd61e",
   "metadata": {},
   "source": [
    "```python\n",
    "print('Hello World!')\n",
    "```"
   ]
  },
  {
   "cell_type": "markdown",
   "id": "b17fc142",
   "metadata": {},
   "source": [
    "[SP2273 Website](https://sps.nus.edu.sg/sp2273)"
   ]
  },
  {
   "cell_type": "markdown",
   "id": "764d4ab5",
   "metadata": {},
   "source": [
    "![](data:image/jpeg;base64,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)"
   ]
  },
  {
   "cell_type": "markdown",
   "id": "5049cb63",
   "metadata": {},
   "source": [
    "#### Quadratic Equations\n",
    "\n",
    "![](https://upload.wikimedia.org/wikipedia/commons/thumb/f/f8/Polynomialdeg2.svg/300px-Polynomialdeg2.svg.png)\n",
    "_(image from the [Wikipedia on Quadratic Equations](https://en.wikipedia.org/wiki/Quadratic_equation))_\n",
    "#### Introduction\n",
    "The general form of a general equation is:\n",
    "$$\n",
    "ax^2 + bx + c = 0\n",
    "$$\n",
    "__solutions__ Provided $a \\ne 0$ we can use an elementary algebraic method called [completeing the square](https://en.wikipedia.org/wiki/Completing_the_square) to show that a quadratic equation has the following solution:\n",
    "$$\n",
    "x = \\dfrac{-b \\pm \\sqrt{b^2-4ac}}{2a}\n",
    "$$\n",
    "#### Discriminant\n",
    "The quantity $\\Delta = b^2 - 4ac$ is called the __discriminant__ of the equation and decides the nature of its solutions. The table below shows the various possibilities.\n",
    "\n",
    "|Discriminant             |Roots                          |\n",
    "|:------------------------|------------------------------:|\n",
    "| $$\\Delta = b^2 - 4ac = 0$$| A single solution of $$-b/(2a)$$|\n",
    "| $$\\Delta = b^2 - 4ac \\gt 0$$| Two distinct solutions|\n",
    "| $$\\Delta = b^2 - 4ac \\lt 0$$| No real solutions; both are complex.|"
   ]
  },
  {
   "cell_type": "markdown",
   "id": "9827197b",
   "metadata": {},
   "source": [
    "1. A repository is a location which contains a project's files and its history \n",
    "2. Git keep tracks of changes in the files in our repository.\n",
    "3. A commit specifies which file changes to be recorded, along with a brief description of the change.\n",
    "4. A push shares the changes one has committed into the cloud (GitHUb).\n",
    "5. GitHub is the shared cloud on the internet, while GitHub desktop exists in your local computer.\n",
    "6. I think its cloning...Since pushing uploads changed done to a file into the cloud, cloning is similar to downloading a copy of a changed filed into the computer."
   ]
  }
 ],
 "metadata": {
  "kernelspec": {
   "display_name": "Python 3 (ipykernel)",
   "language": "python",
   "name": "python3"
  },
  "language_info": {
   "codemirror_mode": {
    "name": "ipython",
    "version": 3
   },
   "file_extension": ".py",
   "mimetype": "text/x-python",
   "name": "python",
   "nbconvert_exporter": "python",
   "pygments_lexer": "ipython3",
   "version": "3.10.8"
  }
 },
 "nbformat": 4,
 "nbformat_minor": 5
}

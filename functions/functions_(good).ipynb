{
 "cells": [
  {
   "cell_type": "markdown",
   "id": "123456",
   "metadata": {},
   "source": [
    "<div style=\"text-align:left;font-size:2em\"><span style=\"font-weight:bolder;font-size:1.25em\">SP2273 | Learning Portfolio</span><br><br><span style=\"font-weight:bold;color:darkred\">Functions (Good)</span></div>"
   ]
  },
  {
   "cell_type": "markdown",
   "id": "56bc3c81",
   "metadata": {},
   "source": [
    "## 1 Check, balances and contingencies"
   ]
  },
  {
   "cell_type": "markdown",
   "id": "01d187a6",
   "metadata": {},
   "source": [
    "### 1.1 assert"
   ]
  },
  {
   "cell_type": "code",
   "execution_count": 4,
   "id": "c2dd8b42",
   "metadata": {},
   "outputs": [
    {
     "ename": "AssertionError",
     "evalue": "x is becoming negative!",
     "output_type": "error",
     "traceback": [
      "\u001b[1;31m---------------------------------------------------------------------------\u001b[0m",
      "\u001b[1;31mAssertionError\u001b[0m                            Traceback (most recent call last)",
      "Cell \u001b[1;32mIn[4], line 2\u001b[0m\n\u001b[0;32m      1\u001b[0m x \u001b[38;5;241m=\u001b[39m \u001b[38;5;241m-\u001b[39m\u001b[38;5;241m1\u001b[39m\n\u001b[1;32m----> 2\u001b[0m \u001b[38;5;28;01massert\u001b[39;00m x \u001b[38;5;241m>\u001b[39m\u001b[38;5;241m=\u001b[39m \u001b[38;5;241m0\u001b[39m, \u001b[38;5;124m\"\u001b[39m\u001b[38;5;124mx is becoming negative!\u001b[39m\u001b[38;5;124m\"\u001b[39m\n\u001b[0;32m      3\u001b[0m \u001b[38;5;28mprint\u001b[39m(x)\n",
      "\u001b[1;31mAssertionError\u001b[0m: x is becoming negative!"
     ]
    }
   ],
   "source": [
    "x = -1\n",
    "assert x >= 0, \"x is becoming negative!\"\n",
    "print(x)"
   ]
  },
  {
   "cell_type": "markdown",
   "id": "023c7ce0",
   "metadata": {},
   "source": [
    "### 1.2 try-except"
   ]
  },
  {
   "cell_type": "code",
   "execution_count": 6,
   "id": "71e83db0",
   "metadata": {},
   "outputs": [
    {
     "name": "stdout",
     "output_type": "stream",
     "text": [
      "Give me a number and I will calculate its square.ha\n"
     ]
    },
    {
     "ename": "ValueError",
     "evalue": "invalid literal for int() with base 10: 'ha'",
     "output_type": "error",
     "traceback": [
      "\u001b[1;31m---------------------------------------------------------------------------\u001b[0m",
      "\u001b[1;31mValueError\u001b[0m                                Traceback (most recent call last)",
      "Cell \u001b[1;32mIn[6], line 2\u001b[0m\n\u001b[0;32m      1\u001b[0m number\u001b[38;5;241m=\u001b[39m\u001b[38;5;28minput\u001b[39m(\u001b[38;5;124m\"\u001b[39m\u001b[38;5;124mGive me a number and I will calculate its square.\u001b[39m\u001b[38;5;124m\"\u001b[39m)\n\u001b[1;32m----> 2\u001b[0m square\u001b[38;5;241m=\u001b[39m\u001b[38;5;28;43mint\u001b[39;49m\u001b[43m(\u001b[49m\u001b[43mnumber\u001b[49m\u001b[43m)\u001b[49m\u001b[38;5;241m*\u001b[39m\u001b[38;5;241m*\u001b[39m\u001b[38;5;241m2\u001b[39m              \u001b[38;5;66;03m# Convert English to number\u001b[39;00m\n\u001b[0;32m      3\u001b[0m \u001b[38;5;28mprint\u001b[39m(\u001b[38;5;124mf\u001b[39m\u001b[38;5;124m'\u001b[39m\u001b[38;5;124mThe square of \u001b[39m\u001b[38;5;132;01m{\u001b[39;00mnumber\u001b[38;5;132;01m}\u001b[39;00m\u001b[38;5;124m is \u001b[39m\u001b[38;5;132;01m{\u001b[39;00msquare\u001b[38;5;132;01m}\u001b[39;00m\u001b[38;5;124m!\u001b[39m\u001b[38;5;124m'\u001b[39m)\n",
      "\u001b[1;31mValueError\u001b[0m: invalid literal for int() with base 10: 'ha'"
     ]
    }
   ],
   "source": [
    "number=input(\"Give me a number and I will calculate its square.\")\n",
    "square=int(number)**2              # Convert English to number\n",
    "print(f'The square of {number} is {square}!')\n"
   ]
  },
  {
   "cell_type": "code",
   "execution_count": 7,
   "id": "55c4c2c9",
   "metadata": {},
   "outputs": [
    {
     "name": "stdout",
     "output_type": "stream",
     "text": [
      "Give me a number and I will calculate its square.ha\n",
      "Oh oh! I cannot square ha!\n"
     ]
    }
   ],
   "source": [
    "try:\n",
    "    number=input(\"Give me a number and I will calculate its square.\")\n",
    "    square=int(number)**2\n",
    "    print(f'The square of {number} is {square}!')\n",
    "except:\n",
    "    print(f\"Oh oh! I cannot square {number}!\")"
   ]
  },
  {
   "cell_type": "markdown",
   "id": "fb631935",
   "metadata": {},
   "source": [
    "## 2 Some loose ends"
   ]
  },
  {
   "cell_type": "markdown",
   "id": "d23d6a5a",
   "metadata": {},
   "source": [
    "### 2.1 Positional, keyword and default arguments"
   ]
  },
  {
   "cell_type": "code",
   "execution_count": 10,
   "id": "c2c686ed",
   "metadata": {},
   "outputs": [
    {
     "data": {
      "text/plain": [
       "321"
      ]
     },
     "execution_count": 10,
     "metadata": {},
     "output_type": "execute_result"
    }
   ],
   "source": [
    "def funny_add(a, b, c=1):\n",
    "    return a + 10*b + 100*c\n",
    "funny_add(1,2) #two positional, 1 default\n",
    "funny_add(1,2,3)  #three positional\n",
    "funny_add(a=1, b=2) # Two keyword, 1 default"
   ]
  },
  {
   "cell_type": "code",
   "execution_count": 11,
   "id": "00d9d149",
   "metadata": {},
   "outputs": [
    {
     "ename": "SyntaxError",
     "evalue": "positional argument follows keyword argument (25483117.py, line 1)",
     "output_type": "error",
     "traceback": [
      "\u001b[1;36m  Cell \u001b[1;32mIn[11], line 1\u001b[1;36m\u001b[0m\n\u001b[1;33m    funny_add(a=2, 1)         # Won't work.\u001b[0m\n\u001b[1;37m                    ^\u001b[0m\n\u001b[1;31mSyntaxError\u001b[0m\u001b[1;31m:\u001b[0m positional argument follows keyword argument\n"
     ]
    }
   ],
   "source": [
    "funny_add(a=2, 1)         # Won't work.\n",
    "                          # Keywords cannot be followed by \n",
    "                          # positional"
   ]
  },
  {
   "cell_type": "markdown",
   "id": "a280fdaa",
   "metadata": {},
   "source": [
    "### 2.2 Docstrings"
   ]
  },
  {
   "cell_type": "code",
   "execution_count": 12,
   "id": "ee2e697c",
   "metadata": {},
   "outputs": [
    {
     "name": "stdout",
     "output_type": "stream",
     "text": [
      "Help on function funny_add in module __main__:\n",
      "\n",
      "funny_add(a, b, c=1)\n",
      "    A test function to demonstrate how \n",
      "    positional, keyword and default arguments \n",
      "    work.\n",
      "\n"
     ]
    }
   ],
   "source": [
    "def funny_add(a, b, c=1):\n",
    "    '''\n",
    "    A test function to demonstrate how \n",
    "    positional, keyword and default arguments \n",
    "    work.\n",
    "    '''\n",
    "    return a + 10*b + 100*c\n",
    "\n",
    "help(funny_add)"
   ]
  },
  {
   "cell_type": "markdown",
   "id": "e4266797",
   "metadata": {},
   "source": [
    "### 2.3 Function are first class citizens"
   ]
  },
  {
   "cell_type": "code",
   "execution_count": 14,
   "id": "d88f902f",
   "metadata": {},
   "outputs": [
    {
     "data": {
      "text/plain": [
       "-1.0"
      ]
     },
     "execution_count": 14,
     "metadata": {},
     "output_type": "execute_result"
    }
   ],
   "source": [
    "import numpy as np\n",
    "def my_function(angle, trig_function):   #trig_function is a function and an argument\n",
    "        return trig_function(angle)\n",
    "\n",
    "# Let's use the function\n",
    "my_function(np.pi/2, np.sin)        \n",
    "#> 1.0\n",
    "my_function(np.pi/2, np.cos)        \n",
    "#> 6.123233995736766e-17\n",
    "my_function(np.pi/2, lambda x: np.cos(2*x))  \n",
    "#> -1.0\n"
   ]
  },
  {
   "cell_type": "markdown",
   "id": "550d8d39",
   "metadata": {},
   "source": [
    "### 2.4 More unpacking"
   ]
  },
  {
   "cell_type": "code",
   "execution_count": 15,
   "id": "68bf8e90",
   "metadata": {},
   "outputs": [
    {
     "name": "stdout",
     "output_type": "stream",
     "text": [
      "1 2 3\n",
      "1 2 3\n"
     ]
    }
   ],
   "source": [
    "x, y, z = [1, 2, 3]\n",
    "print(x, y, z)\n",
    "\n",
    "x, y, z = np.array([1, 2, 3])\n",
    "print(x, y, z)\n"
   ]
  },
  {
   "cell_type": "code",
   "execution_count": 18,
   "id": "3fd4ad9e",
   "metadata": {},
   "outputs": [
    {
     "name": "stdout",
     "output_type": "stream",
     "text": [
      "1 [2, 2, 3, 4, 4] 5\n",
      "1 5\n"
     ]
    }
   ],
   "source": [
    "x, *y, z = np.array([1,2, 2, 3, 4, 4, 5])   #*y gives the middle stuff \n",
    "print(x, y, z)\n",
    "\n",
    "x, *_, y = [1, 2, 3, 4, 5]\n",
    "print(x, y)"
   ]
  },
  {
   "cell_type": "markdown",
   "id": "6442b41d",
   "metadata": {},
   "source": [
    "## Exercise 1 :  A better calculator I"
   ]
  },
  {
   "cell_type": "code",
   "execution_count": 2,
   "id": "aacb4800",
   "metadata": {},
   "outputs": [
    {
     "ename": "AssertionError",
     "evalue": "denominator is 0",
     "output_type": "error",
     "traceback": [
      "\u001b[1;31m---------------------------------------------------------------------------\u001b[0m",
      "\u001b[1;31mAssertionError\u001b[0m                            Traceback (most recent call last)",
      "Cell \u001b[1;32mIn[2], line 21\u001b[0m\n\u001b[0;32m     19\u001b[0m x\u001b[38;5;241m=\u001b[39mnp\u001b[38;5;241m.\u001b[39marray([\u001b[38;5;241m35\u001b[39m, \u001b[38;5;241m34\u001b[39m, \u001b[38;5;241m44\u001b[39m, \u001b[38;5;241m76\u001b[39m, \u001b[38;5;241m27\u001b[39m])\n\u001b[0;32m     20\u001b[0m y\u001b[38;5;241m=\u001b[39mnp\u001b[38;5;241m.\u001b[39marray([\u001b[38;5;241m0\u001b[39m, \u001b[38;5;241m66\u001b[39m, \u001b[38;5;241m56\u001b[39m, \u001b[38;5;241m24\u001b[39m, \u001b[38;5;241m73\u001b[39m])\n\u001b[1;32m---> 21\u001b[0m \u001b[43mdivide\u001b[49m\u001b[43m(\u001b[49m\u001b[43mx\u001b[49m\u001b[43m,\u001b[49m\u001b[43my\u001b[49m\u001b[43m)\u001b[49m\n",
      "Cell \u001b[1;32mIn[2], line 13\u001b[0m, in \u001b[0;36mdivide\u001b[1;34m(x, y)\u001b[0m\n\u001b[0;32m     11\u001b[0m \u001b[38;5;28;01mdef\u001b[39;00m \u001b[38;5;21mdivide\u001b[39m(x,y):\n\u001b[0;32m     12\u001b[0m     \u001b[38;5;28;01mif\u001b[39;00m \u001b[38;5;28misinstance\u001b[39m(y, np\u001b[38;5;241m.\u001b[39mndarray): \n\u001b[1;32m---> 13\u001b[0m         \u001b[38;5;28;01massert\u001b[39;00m \u001b[38;5;129;01mnot\u001b[39;00m np\u001b[38;5;241m.\u001b[39many(y\u001b[38;5;241m==\u001b[39m\u001b[38;5;241m0\u001b[39m), \u001b[38;5;124m\"\u001b[39m\u001b[38;5;124mdenominator is 0\u001b[39m\u001b[38;5;124m\"\u001b[39m\n\u001b[0;32m     14\u001b[0m         \u001b[38;5;28;01mreturn\u001b[39;00m (x\u001b[38;5;241m/\u001b[39my)\n\u001b[0;32m     16\u001b[0m     \u001b[38;5;28;01massert\u001b[39;00m y\u001b[38;5;241m!=\u001b[39m \u001b[38;5;241m0\u001b[39m, \u001b[38;5;124m\"\u001b[39m\u001b[38;5;124mdenominator is 0\u001b[39m\u001b[38;5;124m\"\u001b[39m\n",
      "\u001b[1;31mAssertionError\u001b[0m: denominator is 0"
     ]
    }
   ],
   "source": [
    "import numpy as np\n",
    "def add(x,y):\n",
    "    return (x+y)\n",
    "\n",
    "def subtract(x,y):\n",
    "    return (x-y)\n",
    "\n",
    "def multiply(x,y):\n",
    "    return (x*y)\n",
    "\n",
    "def divide(x,y):\n",
    "    if isinstance(y, np.ndarray): \n",
    "        assert not np.any(y==0), \"denominator is 0\"\n",
    "        return (x/y)\n",
    "    \n",
    "    assert y!= 0, \"denominator is 0\"\n",
    "    return(x/y)\n",
    "\n",
    "x=np.array([35, 34, 44, 76, 27])\n",
    "y=np.array([0, 66, 56, 24, 73])\n",
    "divide(x,y)"
   ]
  },
  {
   "cell_type": "markdown",
   "id": "bf441254",
   "metadata": {},
   "source": [
    "## Exercise 2 :  A better calculator II"
   ]
  },
  {
   "cell_type": "code",
   "execution_count": 2,
   "id": "e9b82638",
   "metadata": {},
   "outputs": [
    {
     "data": {
      "text/plain": [
       "'can u not'"
      ]
     },
     "execution_count": 2,
     "metadata": {},
     "output_type": "execute_result"
    }
   ],
   "source": [
    "import numpy as np\n",
    "import warnings\n",
    "warnings.filterwarnings(\"error\")   #changes numpy warnings to errors (only have to run it once)\n",
    "x=np.array([35, 34, 44, 76, 27])\n",
    "y=np.array([0, 66, 56, 24, 73])\n",
    "\n",
    "\n",
    "def add(x,y):\n",
    "    return (x+y)\n",
    "\n",
    "def subtract(x,y):\n",
    "    return (x-y)\n",
    "\n",
    "def multiply(x,y):\n",
    "    return (x*y)\n",
    "\n",
    "def divide(x,y):\n",
    "    try:\n",
    "        return (x/y)  #no need if statement,, bc when 'if' is there, \n",
    "                   #there is no error and the code runs to that point and stops\n",
    "    except:\n",
    "        return \"can u not\"\n",
    "    \n",
    "divide(x,y)    "
   ]
  }
 ],
 "metadata": {
  "kernelspec": {
   "display_name": "Python 3 (ipykernel)",
   "language": "python",
   "name": "python3"
  },
  "language_info": {
   "codemirror_mode": {
    "name": "ipython",
    "version": 3
   },
   "file_extension": ".py",
   "mimetype": "text/x-python",
   "name": "python",
   "nbconvert_exporter": "python",
   "pygments_lexer": "ipython3",
   "version": "3.10.8"
  },
  "toc": {
   "base_numbering": 1,
   "nav_menu": {},
   "number_sections": true,
   "sideBar": true,
   "skip_h1_title": false,
   "title_cell": "Table of Contents",
   "title_sidebar": "Contents",
   "toc_cell": false,
   "toc_position": {},
   "toc_section_display": true,
   "toc_window_display": false
  },
  "vscode": {
   "interpreter": {
    "hash": "31f2aee4e71d21fbe5cf8b01ff0e069b9275f58929596ceb00d14d90e3e16cd6"
   }
  }
 },
 "nbformat": 4,
 "nbformat_minor": 5
}

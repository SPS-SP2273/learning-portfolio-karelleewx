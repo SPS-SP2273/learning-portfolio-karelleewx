{
 "cells": [
  {
   "cell_type": "markdown",
   "id": "123456",
   "metadata": {},
   "source": [
    "<div style=\"text-align:left;font-size:2em\"><span style=\"font-weight:bolder;font-size:1.25em\">SP2273 | Learning Portfolio</span><br><br><span style=\"font-weight:bold;color:darkred\">Loops (Nice)</span></div>"
   ]
  },
  {
   "cell_type": "markdown",
   "id": "c4b46752",
   "metadata": {},
   "source": [
    "## 1 There is more…"
   ]
  },
  {
   "cell_type": "markdown",
   "id": "d6edd36d",
   "metadata": {},
   "source": [
    "### 1.1 There is more to list comprehension"
   ]
  },
  {
   "cell_type": "code",
   "execution_count": 1,
   "id": "1821d31b",
   "metadata": {},
   "outputs": [
    {
     "data": {
      "text/plain": [
       "[[0, 'A'],\n",
       " [0, 'B'],\n",
       " [0, 'C'],\n",
       " [1, 'A'],\n",
       " [1, 'B'],\n",
       " [1, 'C'],\n",
       " [2, 'A'],\n",
       " [2, 'B'],\n",
       " [2, 'C'],\n",
       " [3, 'A'],\n",
       " [3, 'B'],\n",
       " [3, 'C'],\n",
       " [4, 'A'],\n",
       " [4, 'B'],\n",
       " [4, 'C']]"
      ]
     },
     "execution_count": 1,
     "metadata": {},
     "output_type": "execute_result"
    }
   ],
   "source": [
    "[[a,b] for a in range(5) for b in ['A', 'B', 'C']]\n"
   ]
  },
  {
   "cell_type": "code",
   "execution_count": 2,
   "id": "def6c8e2",
   "metadata": {},
   "outputs": [
    {
     "data": {
      "text/plain": [
       "[[1, 'A'], [1, 'B'], [1, 'C'], [3, 'A'], [3, 'B'], [3, 'C']]"
      ]
     },
     "execution_count": 2,
     "metadata": {},
     "output_type": "execute_result"
    }
   ],
   "source": [
    "[[a,b] for a in range(5) for b in ['A', 'B', 'C'] if a % 2 != 0]"
   ]
  },
  {
   "cell_type": "code",
   "execution_count": 3,
   "id": "3c9a59d9",
   "metadata": {},
   "outputs": [
    {
     "data": {
      "text/plain": [
       "[1, 2, 3, 4, 5, 6, 7]"
      ]
     },
     "execution_count": 3,
     "metadata": {},
     "output_type": "execute_result"
    }
   ],
   "source": [
    "nested_list=[[1, 2, 3], [4, 5, 6, 7]]\n",
    "[y for x in nested_list for y in x]"
   ]
  },
  {
   "cell_type": "markdown",
   "id": "ae6d5bac",
   "metadata": {},
   "source": [
    "### 1.2 Zipping a dictionary"
   ]
  },
  {
   "cell_type": "code",
   "execution_count": 4,
   "id": "5641b4bb",
   "metadata": {},
   "outputs": [
    {
     "data": {
      "text/plain": [
       "{'Natasha Romanoff': 'Black Widow',\n",
       " 'Tony Stark': 'Iron Man',\n",
       " 'Stephen Strange': 'Doctor Strange'}"
      ]
     },
     "execution_count": 4,
     "metadata": {},
     "output_type": "execute_result"
    }
   ],
   "source": [
    "super_names=[\"Black Widow\", \"Iron Man\", \"Doctor Strange\"]\n",
    "real_names=[\"Natasha Romanoff\", \"Tony Stark\", \"Stephen Strange\"]\n",
    "\n",
    "dict(zip(real_names, super_names))\n",
    "\n",
    "#dict is used to create the two lists into a dictionary form"
   ]
  },
  {
   "cell_type": "markdown",
   "id": "bda9e820",
   "metadata": {},
   "source": [
    "### 1.3 for and while has an else"
   ]
  },
  {
   "cell_type": "code",
   "execution_count": 5,
   "id": "f2c4d9eb",
   "metadata": {},
   "outputs": [
    {
     "name": "stdout",
     "output_type": "stream",
     "text": [
      "No negative numbers in the list\n"
     ]
    }
   ],
   "source": [
    "numbers=[0, 1, 2, 3, 4, 5, 6, 7, 8, 9]\n",
    "\n",
    "for i in numbers:\n",
    "    if i < 0: break\n",
    "else:\n",
    "    print('No negative numbers in the list')"
   ]
  },
  {
   "cell_type": "markdown",
   "id": "b52e6d25",
   "metadata": {},
   "source": [
    "## Explore 1 :  Changing a list"
   ]
  },
  {
   "cell_type": "code",
   "execution_count": 11,
   "id": "987abe32",
   "metadata": {
    "scrolled": true
   },
   "outputs": [
    {
     "name": "stdout",
     "output_type": "stream",
     "text": [
      "['apple', 'banana', 'jackfruit', 'papaya', 'watermelons', 'peaches', 'durian', 'mangoes', 'strawberries', 'passionfruit']\n",
      "['apple', 'banana', 'jackfruit', 'watermelons', 'peaches', 'durian', 'mangoes', 'strawberries', 'passionfruit']\n",
      "['apple', 'banana', 'jackfruit', 'watermelons', 'durian', 'mangoes', 'strawberries', 'passionfruit']\n",
      "['apple', 'banana', 'jackfruit', 'watermelons', 'durian', 'mangoes', 'strawberries']\n"
     ]
    }
   ],
   "source": [
    "fruits = [\"apple\", \"banana\", \"jackfruit\",\n",
    "          \"pineapple\", \"papaya\", \"watermelons\",\n",
    "          \"peaches\", \"durian\",  \"mangoes\",\n",
    "          \"strawberries\", \"passionfruit\"\n",
    "          ]\n",
    "copyfruit = fruits.copy()\n",
    "for x in copyfruit:\n",
    "    if x[0] == \"p\":\n",
    "        fruits.remove(x)\n",
    "        print(fruits)"
   ]
  },
  {
   "cell_type": "markdown",
   "id": "f99b76c3",
   "metadata": {},
   "source": [
    "## Explore 2 :  A list of power"
   ]
  },
  {
   "cell_type": "code",
   "execution_count": 2,
   "id": "38fc604c",
   "metadata": {},
   "outputs": [
    {
     "name": "stdout",
     "output_type": "stream",
     "text": [
      "[[1, 1, 1], [], [], [], []]\n",
      "[[1, 1, 1], [2, 4, 8], [], [], []]\n",
      "[[1, 1, 1], [2, 4, 8], [3, 9, 27], [], []]\n",
      "[[1, 1, 1], [2, 4, 8], [3, 9, 27], [4, 16, 64], []]\n",
      "[[1, 1, 1], [2, 4, 8], [3, 9, 27], [4, 16, 64], [5, 25, 125]]\n"
     ]
    }
   ],
   "source": [
    "maximum_n = 5\n",
    "\n",
    "result = [[] for x in range(5)]\n",
    "\n",
    "for n in range(1, maximum_n + 1):\n",
    "    result[n - 1].append(n)\n",
    "    result[n - 1].append(n**2)\n",
    "    result[n - 1].append(n**3)\n",
    "    print(result)"
   ]
  },
  {
   "cell_type": "markdown",
   "id": "634e6516",
   "metadata": {},
   "source": [
    "## Explore 3 :  Time profiling"
   ]
  },
  {
   "cell_type": "code",
   "execution_count": null,
   "id": "cf16baae",
   "metadata": {},
   "outputs": [],
   "source": []
  }
 ],
 "metadata": {
  "kernelspec": {
   "display_name": "Python 3 (ipykernel)",
   "language": "python",
   "name": "python3"
  },
  "language_info": {
   "codemirror_mode": {
    "name": "ipython",
    "version": 3
   },
   "file_extension": ".py",
   "mimetype": "text/x-python",
   "name": "python",
   "nbconvert_exporter": "python",
   "pygments_lexer": "ipython3",
   "version": "3.10.8"
  },
  "toc": {
   "base_numbering": 1,
   "nav_menu": {},
   "number_sections": true,
   "sideBar": true,
   "skip_h1_title": false,
   "title_cell": "Table of Contents",
   "title_sidebar": "Contents",
   "toc_cell": false,
   "toc_position": {},
   "toc_section_display": true,
   "toc_window_display": false
  },
  "vscode": {
   "interpreter": {
    "hash": "31f2aee4e71d21fbe5cf8b01ff0e069b9275f58929596ceb00d14d90e3e16cd6"
   }
  }
 },
 "nbformat": 4,
 "nbformat_minor": 5
}

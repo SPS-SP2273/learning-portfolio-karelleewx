{
 "cells": [
  {
   "cell_type": "markdown",
   "id": "123456",
   "metadata": {},
   "source": [
    "<div style=\"text-align:left;font-size:2em\"><span style=\"font-weight:bolder;font-size:1.25em\">SP2273 | Learning Portfolio</span><br><br><span style=\"font-weight:bold;color:darkred\">Just Exercises (I)</span></div>"
   ]
  },
  {
   "cell_type": "markdown",
   "id": "84083821",
   "metadata": {},
   "source": [
    "## Exercise 1 :  F-strings to the rescue"
   ]
  },
  {
   "cell_type": "code",
   "execution_count": 6,
   "id": "9ea2c929",
   "metadata": {},
   "outputs": [
    {
     "name": "stdout",
     "output_type": "stream",
     "text": [
      "00001\n",
      "00002\n",
      "00003\n",
      "00004\n",
      "00005\n",
      "00006\n",
      "00007\n",
      "00008\n",
      "00009\n",
      "00010\n"
     ]
    }
   ],
   "source": [
    "for x in range(1, 11):\n",
    "    number = f'{x:05}'\n",
    "    print(number)"
   ]
  },
  {
   "cell_type": "code",
   "execution_count": 4,
   "id": "65848310",
   "metadata": {},
   "outputs": [
    {
     "name": "stdout",
     "output_type": "stream",
     "text": [
      "001          +\n",
      "002         ++\n",
      "003        +++\n",
      "004       ++++\n",
      "005      +++++\n",
      "006     ++++++\n",
      "007    +++++++\n",
      "008   ++++++++\n",
      "009  +++++++++\n",
      "010 ++++++++++\n"
     ]
    }
   ],
   "source": [
    "for x in range(1, 11):\n",
    "    number = f'{x:03}'\n",
    "    char = \"+\"\n",
    "    print(number, f'{char*x:>10}')"
   ]
  },
  {
   "cell_type": "code",
   "execution_count": 5,
   "id": "5e58cace",
   "metadata": {},
   "outputs": [
    {
     "name": "stdout",
     "output_type": "stream",
     "text": [
      "00001 -+++++++++\n",
      "00002 --++++++++\n",
      "00003 ---+++++++\n",
      "00004 ----++++++\n",
      "00005 -----+++++\n",
      "00006 ------++++\n",
      "00007 -------+++\n",
      "00008 --------++\n",
      "00009 ---------+\n",
      "00010 ----------\n"
     ]
    }
   ],
   "source": [
    "for x in range(1, 11):\n",
    "    number = f'{x:05}'\n",
    "    c = \"-\"\n",
    "    ch = \"+\"\n",
    "    print(number, f'{c*x:}' f'{ch*(10-x):}')"
   ]
  },
  {
   "cell_type": "code",
   "execution_count": 5,
   "id": "e02aa179",
   "metadata": {},
   "outputs": [
    {
     "name": "stdout",
     "output_type": "stream",
     "text": [
      "['bruce_exploits.txt', 'bruce_enemies.txt', 'bruce_friends.txt', 'natasha_exploits.txt', 'natasha_enemies.txt', 'natasha_friends.txt', 'tony_exploits.txt', 'tony_enemies.txt', 'tony_friends.txt']\n"
     ]
    }
   ],
   "source": [
    "boo = []\n",
    "names = [\"bruce\", \"natasha\", \"tony\"]\n",
    "extra = [\"_exploits.txt\", \"_enemies.txt\", \"_friends.txt\"]\n",
    "for x in names:\n",
    "    for y in extra:\n",
    "        boo.append(x+y)\n",
    "print(boo)"
   ]
  },
  {
   "cell_type": "code",
   "execution_count": 7,
   "id": "729bd75b",
   "metadata": {},
   "outputs": [
    {
     "data": {
      "text/plain": [
       "['data_sg_exp-01_trial-001.txt',\n",
       " 'data_sg_exp-01_trial-002.txt',\n",
       " 'data_sg_exp-01_trial-003.txt',\n",
       " 'data_sg_exp-01_trial-004.txt',\n",
       " 'data_sg_exp-01_trial-005.txt',\n",
       " 'data_sg_exp-01_trial-006.txt',\n",
       " 'data_sg_exp-01_trial-007.txt',\n",
       " 'data_sg_exp-01_trial-008.txt',\n",
       " 'data_sg_exp-01_trial-009.txt',\n",
       " 'data_sg_exp-01_trial-010.txt',\n",
       " 'data_sg_exp-01_trial-011.txt',\n",
       " 'data_sg_exp-01_trial-012.txt',\n",
       " 'data_sg_exp-01_trial-013.txt',\n",
       " 'data_sg_exp-01_trial-014.txt',\n",
       " 'data_sg_exp-01_trial-015.txt',\n",
       " 'data_sg_exp-01_trial-016.txt',\n",
       " 'data_sg_exp-01_trial-017.txt',\n",
       " 'data_sg_exp-01_trial-018.txt',\n",
       " 'data_sg_exp-01_trial-019.txt',\n",
       " 'data_sg_exp-01_trial-020.txt',\n",
       " 'data_sg_exp-01_trial-021.txt',\n",
       " 'data_sg_exp-01_trial-022.txt',\n",
       " 'data_sg_exp-01_trial-023.txt',\n",
       " 'data_sg_exp-01_trial-024.txt',\n",
       " 'data_sg_exp-01_trial-025.txt',\n",
       " 'data_sg_exp-01_trial-026.txt',\n",
       " 'data_sg_exp-01_trial-027.txt',\n",
       " 'data_sg_exp-01_trial-028.txt',\n",
       " 'data_sg_exp-01_trial-029.txt',\n",
       " 'data_sg_exp-01_trial-030.txt',\n",
       " 'data_sg_exp-01_trial-031.txt',\n",
       " 'data_sg_exp-01_trial-032.txt',\n",
       " 'data_sg_exp-01_trial-033.txt',\n",
       " 'data_sg_exp-01_trial-034.txt',\n",
       " 'data_sg_exp-01_trial-035.txt',\n",
       " 'data_sg_exp-01_trial-036.txt',\n",
       " 'data_sg_exp-01_trial-037.txt',\n",
       " 'data_sg_exp-01_trial-038.txt',\n",
       " 'data_sg_exp-01_trial-039.txt',\n",
       " 'data_sg_exp-01_trial-040.txt',\n",
       " 'data_sg_exp-01_trial-041.txt',\n",
       " 'data_sg_exp-01_trial-042.txt',\n",
       " 'data_sg_exp-01_trial-043.txt',\n",
       " 'data_sg_exp-01_trial-044.txt',\n",
       " 'data_sg_exp-01_trial-045.txt',\n",
       " 'data_sg_exp-01_trial-046.txt',\n",
       " 'data_sg_exp-01_trial-047.txt',\n",
       " 'data_sg_exp-01_trial-048.txt',\n",
       " 'data_sg_exp-01_trial-049.txt',\n",
       " 'data_sg_exp-01_trial-050.txt',\n",
       " 'data_sg_exp-02_trial-001.txt',\n",
       " 'data_sg_exp-02_trial-002.txt',\n",
       " 'data_sg_exp-02_trial-003.txt',\n",
       " 'data_sg_exp-02_trial-004.txt',\n",
       " 'data_sg_exp-02_trial-005.txt',\n",
       " 'data_sg_exp-02_trial-006.txt',\n",
       " 'data_sg_exp-02_trial-007.txt',\n",
       " 'data_sg_exp-02_trial-008.txt',\n",
       " 'data_sg_exp-02_trial-009.txt',\n",
       " 'data_sg_exp-02_trial-010.txt',\n",
       " 'data_sg_exp-02_trial-011.txt',\n",
       " 'data_sg_exp-02_trial-012.txt',\n",
       " 'data_sg_exp-02_trial-013.txt',\n",
       " 'data_sg_exp-02_trial-014.txt',\n",
       " 'data_sg_exp-02_trial-015.txt',\n",
       " 'data_sg_exp-02_trial-016.txt',\n",
       " 'data_sg_exp-02_trial-017.txt',\n",
       " 'data_sg_exp-02_trial-018.txt',\n",
       " 'data_sg_exp-02_trial-019.txt',\n",
       " 'data_sg_exp-02_trial-020.txt',\n",
       " 'data_sg_exp-02_trial-021.txt',\n",
       " 'data_sg_exp-02_trial-022.txt',\n",
       " 'data_sg_exp-02_trial-023.txt',\n",
       " 'data_sg_exp-02_trial-024.txt',\n",
       " 'data_sg_exp-02_trial-025.txt',\n",
       " 'data_sg_exp-02_trial-026.txt',\n",
       " 'data_sg_exp-02_trial-027.txt',\n",
       " 'data_sg_exp-02_trial-028.txt',\n",
       " 'data_sg_exp-02_trial-029.txt',\n",
       " 'data_sg_exp-02_trial-030.txt',\n",
       " 'data_sg_exp-02_trial-031.txt',\n",
       " 'data_sg_exp-02_trial-032.txt',\n",
       " 'data_sg_exp-02_trial-033.txt',\n",
       " 'data_sg_exp-02_trial-034.txt',\n",
       " 'data_sg_exp-02_trial-035.txt',\n",
       " 'data_sg_exp-02_trial-036.txt',\n",
       " 'data_sg_exp-02_trial-037.txt',\n",
       " 'data_sg_exp-02_trial-038.txt',\n",
       " 'data_sg_exp-02_trial-039.txt',\n",
       " 'data_sg_exp-02_trial-040.txt',\n",
       " 'data_sg_exp-02_trial-041.txt',\n",
       " 'data_sg_exp-02_trial-042.txt',\n",
       " 'data_sg_exp-02_trial-043.txt',\n",
       " 'data_sg_exp-02_trial-044.txt',\n",
       " 'data_sg_exp-02_trial-045.txt',\n",
       " 'data_sg_exp-02_trial-046.txt',\n",
       " 'data_sg_exp-02_trial-047.txt',\n",
       " 'data_sg_exp-02_trial-048.txt',\n",
       " 'data_sg_exp-02_trial-049.txt',\n",
       " 'data_sg_exp-02_trial-050.txt',\n",
       " 'data_sg_exp-03_trial-001.txt',\n",
       " 'data_sg_exp-03_trial-002.txt',\n",
       " 'data_sg_exp-03_trial-003.txt',\n",
       " 'data_sg_exp-03_trial-004.txt',\n",
       " 'data_sg_exp-03_trial-005.txt',\n",
       " 'data_sg_exp-03_trial-006.txt',\n",
       " 'data_sg_exp-03_trial-007.txt',\n",
       " 'data_sg_exp-03_trial-008.txt',\n",
       " 'data_sg_exp-03_trial-009.txt',\n",
       " 'data_sg_exp-03_trial-010.txt',\n",
       " 'data_sg_exp-03_trial-011.txt',\n",
       " 'data_sg_exp-03_trial-012.txt',\n",
       " 'data_sg_exp-03_trial-013.txt',\n",
       " 'data_sg_exp-03_trial-014.txt',\n",
       " 'data_sg_exp-03_trial-015.txt',\n",
       " 'data_sg_exp-03_trial-016.txt',\n",
       " 'data_sg_exp-03_trial-017.txt',\n",
       " 'data_sg_exp-03_trial-018.txt',\n",
       " 'data_sg_exp-03_trial-019.txt',\n",
       " 'data_sg_exp-03_trial-020.txt',\n",
       " 'data_sg_exp-03_trial-021.txt',\n",
       " 'data_sg_exp-03_trial-022.txt',\n",
       " 'data_sg_exp-03_trial-023.txt',\n",
       " 'data_sg_exp-03_trial-024.txt',\n",
       " 'data_sg_exp-03_trial-025.txt',\n",
       " 'data_sg_exp-03_trial-026.txt',\n",
       " 'data_sg_exp-03_trial-027.txt',\n",
       " 'data_sg_exp-03_trial-028.txt',\n",
       " 'data_sg_exp-03_trial-029.txt',\n",
       " 'data_sg_exp-03_trial-030.txt',\n",
       " 'data_sg_exp-03_trial-031.txt',\n",
       " 'data_sg_exp-03_trial-032.txt',\n",
       " 'data_sg_exp-03_trial-033.txt',\n",
       " 'data_sg_exp-03_trial-034.txt',\n",
       " 'data_sg_exp-03_trial-035.txt',\n",
       " 'data_sg_exp-03_trial-036.txt',\n",
       " 'data_sg_exp-03_trial-037.txt',\n",
       " 'data_sg_exp-03_trial-038.txt',\n",
       " 'data_sg_exp-03_trial-039.txt',\n",
       " 'data_sg_exp-03_trial-040.txt',\n",
       " 'data_sg_exp-03_trial-041.txt',\n",
       " 'data_sg_exp-03_trial-042.txt',\n",
       " 'data_sg_exp-03_trial-043.txt',\n",
       " 'data_sg_exp-03_trial-044.txt',\n",
       " 'data_sg_exp-03_trial-045.txt',\n",
       " 'data_sg_exp-03_trial-046.txt',\n",
       " 'data_sg_exp-03_trial-047.txt',\n",
       " 'data_sg_exp-03_trial-048.txt',\n",
       " 'data_sg_exp-03_trial-049.txt',\n",
       " 'data_sg_exp-03_trial-050.txt',\n",
       " 'data_gb_exp-01_trial-001.txt',\n",
       " 'data_gb_exp-01_trial-002.txt',\n",
       " 'data_gb_exp-01_trial-003.txt',\n",
       " 'data_gb_exp-01_trial-004.txt',\n",
       " 'data_gb_exp-01_trial-005.txt',\n",
       " 'data_gb_exp-01_trial-006.txt',\n",
       " 'data_gb_exp-01_trial-007.txt',\n",
       " 'data_gb_exp-01_trial-008.txt',\n",
       " 'data_gb_exp-01_trial-009.txt',\n",
       " 'data_gb_exp-01_trial-010.txt',\n",
       " 'data_gb_exp-01_trial-011.txt',\n",
       " 'data_gb_exp-01_trial-012.txt',\n",
       " 'data_gb_exp-01_trial-013.txt',\n",
       " 'data_gb_exp-01_trial-014.txt',\n",
       " 'data_gb_exp-01_trial-015.txt',\n",
       " 'data_gb_exp-01_trial-016.txt',\n",
       " 'data_gb_exp-01_trial-017.txt',\n",
       " 'data_gb_exp-01_trial-018.txt',\n",
       " 'data_gb_exp-01_trial-019.txt',\n",
       " 'data_gb_exp-01_trial-020.txt',\n",
       " 'data_gb_exp-01_trial-021.txt',\n",
       " 'data_gb_exp-01_trial-022.txt',\n",
       " 'data_gb_exp-01_trial-023.txt',\n",
       " 'data_gb_exp-01_trial-024.txt',\n",
       " 'data_gb_exp-01_trial-025.txt',\n",
       " 'data_gb_exp-01_trial-026.txt',\n",
       " 'data_gb_exp-01_trial-027.txt',\n",
       " 'data_gb_exp-01_trial-028.txt',\n",
       " 'data_gb_exp-01_trial-029.txt',\n",
       " 'data_gb_exp-01_trial-030.txt',\n",
       " 'data_gb_exp-01_trial-031.txt',\n",
       " 'data_gb_exp-01_trial-032.txt',\n",
       " 'data_gb_exp-01_trial-033.txt',\n",
       " 'data_gb_exp-01_trial-034.txt',\n",
       " 'data_gb_exp-01_trial-035.txt',\n",
       " 'data_gb_exp-01_trial-036.txt',\n",
       " 'data_gb_exp-01_trial-037.txt',\n",
       " 'data_gb_exp-01_trial-038.txt',\n",
       " 'data_gb_exp-01_trial-039.txt',\n",
       " 'data_gb_exp-01_trial-040.txt',\n",
       " 'data_gb_exp-01_trial-041.txt',\n",
       " 'data_gb_exp-01_trial-042.txt',\n",
       " 'data_gb_exp-01_trial-043.txt',\n",
       " 'data_gb_exp-01_trial-044.txt',\n",
       " 'data_gb_exp-01_trial-045.txt',\n",
       " 'data_gb_exp-01_trial-046.txt',\n",
       " 'data_gb_exp-01_trial-047.txt',\n",
       " 'data_gb_exp-01_trial-048.txt',\n",
       " 'data_gb_exp-01_trial-049.txt',\n",
       " 'data_gb_exp-01_trial-050.txt',\n",
       " 'data_gb_exp-02_trial-001.txt',\n",
       " 'data_gb_exp-02_trial-002.txt',\n",
       " 'data_gb_exp-02_trial-003.txt',\n",
       " 'data_gb_exp-02_trial-004.txt',\n",
       " 'data_gb_exp-02_trial-005.txt',\n",
       " 'data_gb_exp-02_trial-006.txt',\n",
       " 'data_gb_exp-02_trial-007.txt',\n",
       " 'data_gb_exp-02_trial-008.txt',\n",
       " 'data_gb_exp-02_trial-009.txt',\n",
       " 'data_gb_exp-02_trial-010.txt',\n",
       " 'data_gb_exp-02_trial-011.txt',\n",
       " 'data_gb_exp-02_trial-012.txt',\n",
       " 'data_gb_exp-02_trial-013.txt',\n",
       " 'data_gb_exp-02_trial-014.txt',\n",
       " 'data_gb_exp-02_trial-015.txt',\n",
       " 'data_gb_exp-02_trial-016.txt',\n",
       " 'data_gb_exp-02_trial-017.txt',\n",
       " 'data_gb_exp-02_trial-018.txt',\n",
       " 'data_gb_exp-02_trial-019.txt',\n",
       " 'data_gb_exp-02_trial-020.txt',\n",
       " 'data_gb_exp-02_trial-021.txt',\n",
       " 'data_gb_exp-02_trial-022.txt',\n",
       " 'data_gb_exp-02_trial-023.txt',\n",
       " 'data_gb_exp-02_trial-024.txt',\n",
       " 'data_gb_exp-02_trial-025.txt',\n",
       " 'data_gb_exp-02_trial-026.txt',\n",
       " 'data_gb_exp-02_trial-027.txt',\n",
       " 'data_gb_exp-02_trial-028.txt',\n",
       " 'data_gb_exp-02_trial-029.txt',\n",
       " 'data_gb_exp-02_trial-030.txt',\n",
       " 'data_gb_exp-02_trial-031.txt',\n",
       " 'data_gb_exp-02_trial-032.txt',\n",
       " 'data_gb_exp-02_trial-033.txt',\n",
       " 'data_gb_exp-02_trial-034.txt',\n",
       " 'data_gb_exp-02_trial-035.txt',\n",
       " 'data_gb_exp-02_trial-036.txt',\n",
       " 'data_gb_exp-02_trial-037.txt',\n",
       " 'data_gb_exp-02_trial-038.txt',\n",
       " 'data_gb_exp-02_trial-039.txt',\n",
       " 'data_gb_exp-02_trial-040.txt',\n",
       " 'data_gb_exp-02_trial-041.txt',\n",
       " 'data_gb_exp-02_trial-042.txt',\n",
       " 'data_gb_exp-02_trial-043.txt',\n",
       " 'data_gb_exp-02_trial-044.txt',\n",
       " 'data_gb_exp-02_trial-045.txt',\n",
       " 'data_gb_exp-02_trial-046.txt',\n",
       " 'data_gb_exp-02_trial-047.txt',\n",
       " 'data_gb_exp-02_trial-048.txt',\n",
       " 'data_gb_exp-02_trial-049.txt',\n",
       " 'data_gb_exp-02_trial-050.txt',\n",
       " 'data_gb_exp-03_trial-001.txt',\n",
       " 'data_gb_exp-03_trial-002.txt',\n",
       " 'data_gb_exp-03_trial-003.txt',\n",
       " 'data_gb_exp-03_trial-004.txt',\n",
       " 'data_gb_exp-03_trial-005.txt',\n",
       " 'data_gb_exp-03_trial-006.txt',\n",
       " 'data_gb_exp-03_trial-007.txt',\n",
       " 'data_gb_exp-03_trial-008.txt',\n",
       " 'data_gb_exp-03_trial-009.txt',\n",
       " 'data_gb_exp-03_trial-010.txt',\n",
       " 'data_gb_exp-03_trial-011.txt',\n",
       " 'data_gb_exp-03_trial-012.txt',\n",
       " 'data_gb_exp-03_trial-013.txt',\n",
       " 'data_gb_exp-03_trial-014.txt',\n",
       " 'data_gb_exp-03_trial-015.txt',\n",
       " 'data_gb_exp-03_trial-016.txt',\n",
       " 'data_gb_exp-03_trial-017.txt',\n",
       " 'data_gb_exp-03_trial-018.txt',\n",
       " 'data_gb_exp-03_trial-019.txt',\n",
       " 'data_gb_exp-03_trial-020.txt',\n",
       " 'data_gb_exp-03_trial-021.txt',\n",
       " 'data_gb_exp-03_trial-022.txt',\n",
       " 'data_gb_exp-03_trial-023.txt',\n",
       " 'data_gb_exp-03_trial-024.txt',\n",
       " 'data_gb_exp-03_trial-025.txt',\n",
       " 'data_gb_exp-03_trial-026.txt',\n",
       " 'data_gb_exp-03_trial-027.txt',\n",
       " 'data_gb_exp-03_trial-028.txt',\n",
       " 'data_gb_exp-03_trial-029.txt',\n",
       " 'data_gb_exp-03_trial-030.txt',\n",
       " 'data_gb_exp-03_trial-031.txt',\n",
       " 'data_gb_exp-03_trial-032.txt',\n",
       " 'data_gb_exp-03_trial-033.txt',\n",
       " 'data_gb_exp-03_trial-034.txt',\n",
       " 'data_gb_exp-03_trial-035.txt',\n",
       " 'data_gb_exp-03_trial-036.txt',\n",
       " 'data_gb_exp-03_trial-037.txt',\n",
       " 'data_gb_exp-03_trial-038.txt',\n",
       " 'data_gb_exp-03_trial-039.txt',\n",
       " 'data_gb_exp-03_trial-040.txt',\n",
       " 'data_gb_exp-03_trial-041.txt',\n",
       " 'data_gb_exp-03_trial-042.txt',\n",
       " 'data_gb_exp-03_trial-043.txt',\n",
       " 'data_gb_exp-03_trial-044.txt',\n",
       " 'data_gb_exp-03_trial-045.txt',\n",
       " 'data_gb_exp-03_trial-046.txt',\n",
       " 'data_gb_exp-03_trial-047.txt',\n",
       " 'data_gb_exp-03_trial-048.txt',\n",
       " 'data_gb_exp-03_trial-049.txt',\n",
       " 'data_gb_exp-03_trial-050.txt',\n",
       " 'data_us_exp-01_trial-001.txt',\n",
       " 'data_us_exp-01_trial-002.txt',\n",
       " 'data_us_exp-01_trial-003.txt',\n",
       " 'data_us_exp-01_trial-004.txt',\n",
       " 'data_us_exp-01_trial-005.txt',\n",
       " 'data_us_exp-01_trial-006.txt',\n",
       " 'data_us_exp-01_trial-007.txt',\n",
       " 'data_us_exp-01_trial-008.txt',\n",
       " 'data_us_exp-01_trial-009.txt',\n",
       " 'data_us_exp-01_trial-010.txt',\n",
       " 'data_us_exp-01_trial-011.txt',\n",
       " 'data_us_exp-01_trial-012.txt',\n",
       " 'data_us_exp-01_trial-013.txt',\n",
       " 'data_us_exp-01_trial-014.txt',\n",
       " 'data_us_exp-01_trial-015.txt',\n",
       " 'data_us_exp-01_trial-016.txt',\n",
       " 'data_us_exp-01_trial-017.txt',\n",
       " 'data_us_exp-01_trial-018.txt',\n",
       " 'data_us_exp-01_trial-019.txt',\n",
       " 'data_us_exp-01_trial-020.txt',\n",
       " 'data_us_exp-01_trial-021.txt',\n",
       " 'data_us_exp-01_trial-022.txt',\n",
       " 'data_us_exp-01_trial-023.txt',\n",
       " 'data_us_exp-01_trial-024.txt',\n",
       " 'data_us_exp-01_trial-025.txt',\n",
       " 'data_us_exp-01_trial-026.txt',\n",
       " 'data_us_exp-01_trial-027.txt',\n",
       " 'data_us_exp-01_trial-028.txt',\n",
       " 'data_us_exp-01_trial-029.txt',\n",
       " 'data_us_exp-01_trial-030.txt',\n",
       " 'data_us_exp-01_trial-031.txt',\n",
       " 'data_us_exp-01_trial-032.txt',\n",
       " 'data_us_exp-01_trial-033.txt',\n",
       " 'data_us_exp-01_trial-034.txt',\n",
       " 'data_us_exp-01_trial-035.txt',\n",
       " 'data_us_exp-01_trial-036.txt',\n",
       " 'data_us_exp-01_trial-037.txt',\n",
       " 'data_us_exp-01_trial-038.txt',\n",
       " 'data_us_exp-01_trial-039.txt',\n",
       " 'data_us_exp-01_trial-040.txt',\n",
       " 'data_us_exp-01_trial-041.txt',\n",
       " 'data_us_exp-01_trial-042.txt',\n",
       " 'data_us_exp-01_trial-043.txt',\n",
       " 'data_us_exp-01_trial-044.txt',\n",
       " 'data_us_exp-01_trial-045.txt',\n",
       " 'data_us_exp-01_trial-046.txt',\n",
       " 'data_us_exp-01_trial-047.txt',\n",
       " 'data_us_exp-01_trial-048.txt',\n",
       " 'data_us_exp-01_trial-049.txt',\n",
       " 'data_us_exp-01_trial-050.txt',\n",
       " 'data_us_exp-02_trial-001.txt',\n",
       " 'data_us_exp-02_trial-002.txt',\n",
       " 'data_us_exp-02_trial-003.txt',\n",
       " 'data_us_exp-02_trial-004.txt',\n",
       " 'data_us_exp-02_trial-005.txt',\n",
       " 'data_us_exp-02_trial-006.txt',\n",
       " 'data_us_exp-02_trial-007.txt',\n",
       " 'data_us_exp-02_trial-008.txt',\n",
       " 'data_us_exp-02_trial-009.txt',\n",
       " 'data_us_exp-02_trial-010.txt',\n",
       " 'data_us_exp-02_trial-011.txt',\n",
       " 'data_us_exp-02_trial-012.txt',\n",
       " 'data_us_exp-02_trial-013.txt',\n",
       " 'data_us_exp-02_trial-014.txt',\n",
       " 'data_us_exp-02_trial-015.txt',\n",
       " 'data_us_exp-02_trial-016.txt',\n",
       " 'data_us_exp-02_trial-017.txt',\n",
       " 'data_us_exp-02_trial-018.txt',\n",
       " 'data_us_exp-02_trial-019.txt',\n",
       " 'data_us_exp-02_trial-020.txt',\n",
       " 'data_us_exp-02_trial-021.txt',\n",
       " 'data_us_exp-02_trial-022.txt',\n",
       " 'data_us_exp-02_trial-023.txt',\n",
       " 'data_us_exp-02_trial-024.txt',\n",
       " 'data_us_exp-02_trial-025.txt',\n",
       " 'data_us_exp-02_trial-026.txt',\n",
       " 'data_us_exp-02_trial-027.txt',\n",
       " 'data_us_exp-02_trial-028.txt',\n",
       " 'data_us_exp-02_trial-029.txt',\n",
       " 'data_us_exp-02_trial-030.txt',\n",
       " 'data_us_exp-02_trial-031.txt',\n",
       " 'data_us_exp-02_trial-032.txt',\n",
       " 'data_us_exp-02_trial-033.txt',\n",
       " 'data_us_exp-02_trial-034.txt',\n",
       " 'data_us_exp-02_trial-035.txt',\n",
       " 'data_us_exp-02_trial-036.txt',\n",
       " 'data_us_exp-02_trial-037.txt',\n",
       " 'data_us_exp-02_trial-038.txt',\n",
       " 'data_us_exp-02_trial-039.txt',\n",
       " 'data_us_exp-02_trial-040.txt',\n",
       " 'data_us_exp-02_trial-041.txt',\n",
       " 'data_us_exp-02_trial-042.txt',\n",
       " 'data_us_exp-02_trial-043.txt',\n",
       " 'data_us_exp-02_trial-044.txt',\n",
       " 'data_us_exp-02_trial-045.txt',\n",
       " 'data_us_exp-02_trial-046.txt',\n",
       " 'data_us_exp-02_trial-047.txt',\n",
       " 'data_us_exp-02_trial-048.txt',\n",
       " 'data_us_exp-02_trial-049.txt',\n",
       " 'data_us_exp-02_trial-050.txt',\n",
       " 'data_us_exp-03_trial-001.txt',\n",
       " 'data_us_exp-03_trial-002.txt',\n",
       " 'data_us_exp-03_trial-003.txt',\n",
       " 'data_us_exp-03_trial-004.txt',\n",
       " 'data_us_exp-03_trial-005.txt',\n",
       " 'data_us_exp-03_trial-006.txt',\n",
       " 'data_us_exp-03_trial-007.txt',\n",
       " 'data_us_exp-03_trial-008.txt',\n",
       " 'data_us_exp-03_trial-009.txt',\n",
       " 'data_us_exp-03_trial-010.txt',\n",
       " 'data_us_exp-03_trial-011.txt',\n",
       " 'data_us_exp-03_trial-012.txt',\n",
       " 'data_us_exp-03_trial-013.txt',\n",
       " 'data_us_exp-03_trial-014.txt',\n",
       " 'data_us_exp-03_trial-015.txt',\n",
       " 'data_us_exp-03_trial-016.txt',\n",
       " 'data_us_exp-03_trial-017.txt',\n",
       " 'data_us_exp-03_trial-018.txt',\n",
       " 'data_us_exp-03_trial-019.txt',\n",
       " 'data_us_exp-03_trial-020.txt',\n",
       " 'data_us_exp-03_trial-021.txt',\n",
       " 'data_us_exp-03_trial-022.txt',\n",
       " 'data_us_exp-03_trial-023.txt',\n",
       " 'data_us_exp-03_trial-024.txt',\n",
       " 'data_us_exp-03_trial-025.txt',\n",
       " 'data_us_exp-03_trial-026.txt',\n",
       " 'data_us_exp-03_trial-027.txt',\n",
       " 'data_us_exp-03_trial-028.txt',\n",
       " 'data_us_exp-03_trial-029.txt',\n",
       " 'data_us_exp-03_trial-030.txt',\n",
       " 'data_us_exp-03_trial-031.txt',\n",
       " 'data_us_exp-03_trial-032.txt',\n",
       " 'data_us_exp-03_trial-033.txt',\n",
       " 'data_us_exp-03_trial-034.txt',\n",
       " 'data_us_exp-03_trial-035.txt',\n",
       " 'data_us_exp-03_trial-036.txt',\n",
       " 'data_us_exp-03_trial-037.txt',\n",
       " 'data_us_exp-03_trial-038.txt',\n",
       " 'data_us_exp-03_trial-039.txt',\n",
       " 'data_us_exp-03_trial-040.txt',\n",
       " 'data_us_exp-03_trial-041.txt',\n",
       " 'data_us_exp-03_trial-042.txt',\n",
       " 'data_us_exp-03_trial-043.txt',\n",
       " 'data_us_exp-03_trial-044.txt',\n",
       " 'data_us_exp-03_trial-045.txt',\n",
       " 'data_us_exp-03_trial-046.txt',\n",
       " 'data_us_exp-03_trial-047.txt',\n",
       " 'data_us_exp-03_trial-048.txt',\n",
       " 'data_us_exp-03_trial-049.txt',\n",
       " 'data_us_exp-03_trial-050.txt']"
      ]
     },
     "execution_count": 7,
     "metadata": {},
     "output_type": "execute_result"
    }
   ],
   "source": [
    "boo = []\n",
    "country = [\"sg\", \"gb\", \"us\"]\n",
    "for x in country:\n",
    "    for experiment in range(1,4):\n",
    "        for trial in range(1,51):\n",
    "            boo.append(f\"data_{x}_exp-{experiment:02}_trial-{trial:03}.txt\")\n",
    "boo"
   ]
  },
  {
   "cell_type": "markdown",
   "id": "434abfaf",
   "metadata": {},
   "source": [
    "## Exercise 2 :  Tutti frutti"
   ]
  },
  {
   "cell_type": "code",
   "execution_count": 30,
   "id": "fc3b5e8c",
   "metadata": {},
   "outputs": [
    {
     "name": "stdout",
     "output_type": "stream",
     "text": [
      "mango is present\n"
     ]
    }
   ],
   "source": [
    "fruits = [\"apple\", \"banana\", \"pineapple\", \"jackfruit\",\n",
    "        \"peach\", \"durian\", \"watermelon\", \"mango\",\n",
    "        \"strawberry\", \"passionfruit\"]\n",
    "for x in fruits:\n",
    "    if x == \"mango\":\n",
    "        print(\"mango is present\")"
   ]
  },
  {
   "cell_type": "code",
   "execution_count": 17,
   "id": "f20e1c4b",
   "metadata": {},
   "outputs": [
    {
     "name": "stdout",
     "output_type": "stream",
     "text": [
      "ae\n",
      "ba\n",
      "pe\n",
      "jt\n",
      "ph\n",
      "dn\n",
      "wn\n",
      "mo\n",
      "sy\n",
      "pt\n"
     ]
    }
   ],
   "source": [
    "for x in fruits:\n",
    "    print(x[0]+x[-1])"
   ]
  },
  {
   "cell_type": "code",
   "execution_count": 31,
   "id": "42d57cdd",
   "metadata": {},
   "outputs": [
    {
     "name": "stdout",
     "output_type": "stream",
     "text": [
      "apple\n",
      "banana\n",
      "PINEAPPLE\n",
      "jackfruit\n",
      "PEACH\n",
      "durian\n",
      "watermelon\n",
      "mango\n",
      "strawberry\n",
      "PASSIONFRUIT\n"
     ]
    }
   ],
   "source": [
    "for x in fruits:\n",
    "    if x[0] == \"p\":\n",
    "        print(x.upper())\n",
    "    else:\n",
    "        print(x)"
   ]
  },
  {
   "cell_type": "code",
   "execution_count": 32,
   "id": "69c411fe",
   "metadata": {},
   "outputs": [
    {
     "data": {
      "text/plain": [
       "['apple',\n",
       " 'banana',\n",
       " 'pineapple',\n",
       " 'jackfruit',\n",
       " 'peach',\n",
       " 'durian',\n",
       " 'watermelon',\n",
       " 'mango',\n",
       " 'strawberry',\n",
       " 'passionfruit',\n",
       " 'dragon fruit',\n",
       " 'apricots',\n",
       " 'oranges']"
      ]
     },
     "execution_count": 32,
     "metadata": {},
     "output_type": "execute_result"
    }
   ],
   "source": [
    "extra = [\"dragon fruit\", \"apricots\", \"oranges\"]\n",
    "fruits += extra\n",
    "fruits"
   ]
  },
  {
   "cell_type": "code",
   "execution_count": 33,
   "id": "6fa2eebc",
   "metadata": {},
   "outputs": [
    {
     "data": {
      "text/plain": [
       "['dragon fruit',\n",
       " 'apricots',\n",
       " 'oranges',\n",
       " 'apple',\n",
       " 'banana',\n",
       " 'pineapple',\n",
       " 'jackfruit',\n",
       " 'peach',\n",
       " 'durian',\n",
       " 'watermelon',\n",
       " 'mango',\n",
       " 'strawberry',\n",
       " 'passionfruit']"
      ]
     },
     "execution_count": 33,
     "metadata": {},
     "output_type": "execute_result"
    }
   ],
   "source": [
    "fruits = [\"apple\", \"banana\", \"pineapple\", \"jackfruit\",\n",
    "        \"peach\", \"durian\", \"watermelon\", \"mango\",\n",
    "        \"strawberry\", \"passionfruit\"]\n",
    "fruits = extra + fruits\n",
    "fruits"
   ]
  },
  {
   "cell_type": "code",
   "execution_count": 47,
   "id": "cf357388",
   "metadata": {},
   "outputs": [
    {
     "data": {
      "text/plain": [
       "['apple',\n",
       " 'banana',\n",
       " 'pineapple',\n",
       " 'jackfruit',\n",
       " 'dragon fruit\", \"apricots\", \"oranges',\n",
       " 'peach',\n",
       " 'durian',\n",
       " 'watermelon',\n",
       " 'mango',\n",
       " 'strawberry',\n",
       " 'passionfruit']"
      ]
     },
     "execution_count": 47,
     "metadata": {},
     "output_type": "execute_result"
    }
   ],
   "source": [
    "fruits = [\"apple\", \"banana\", \"pineapple\", \"jackfruit\",\n",
    "        \"peach\", \"durian\", \"watermelon\", \"mango\",\n",
    "        \"strawberry\", \"passionfruit\"]\n",
    "extra = 'dragon fruit\", \"apricots\", \"oranges' #the quotation marks are wonky\n",
    "fruits.insert(4, extra)\n",
    "fruits"
   ]
  },
  {
   "cell_type": "code",
   "execution_count": 51,
   "id": "c68d3736",
   "metadata": {},
   "outputs": [
    {
     "data": {
      "text/plain": [
       "['pineapple', 'jackfruit', 'watermelon', 'strawberry', 'passionfruit']"
      ]
     },
     "execution_count": 51,
     "metadata": {},
     "output_type": "execute_result"
    }
   ],
   "source": [
    "fruits = [\"apple\", \"banana\", \"pineapple\", \"jackfruit\",\n",
    "        \"peach\", \"durian\", \"watermelon\", \"mango\",\n",
    "        \"strawberry\", \"passionfruit\"]\n",
    "[x for x in fruits if len(x)>8 ] \n",
    "#i want to print x in elements of x in list fruits if length of x>8"
   ]
  },
  {
   "cell_type": "markdown",
   "id": "60579eba",
   "metadata": {},
   "source": [
    "## Exercise 3 :  Ciao Fibonacci"
   ]
  },
  {
   "cell_type": "code",
   "execution_count": 55,
   "id": "f6566ab7",
   "metadata": {},
   "outputs": [
    {
     "data": {
      "text/plain": [
       "[0, 1, 1, 2, 3, 5, 8, 13, 21, 34, 55, 89, 144]"
      ]
     },
     "execution_count": 55,
     "metadata": {},
     "output_type": "execute_result"
    }
   ],
   "source": [
    "fibonacci=[0,1]\n",
    "for x in range (1,12):\n",
    "    fibonacci.append(fibonacci[-1]+fibonacci[-2])\n",
    "fibonacci"
   ]
  },
  {
   "cell_type": "markdown",
   "id": "72c2e873",
   "metadata": {},
   "source": [
    "## Exercise 4 :  A function for Fibonacci"
   ]
  },
  {
   "cell_type": "code",
   "execution_count": 67,
   "id": "cf679431",
   "metadata": {},
   "outputs": [
    {
     "data": {
      "text/plain": [
       "[0, 1, 1, 2, 3]"
      ]
     },
     "execution_count": 67,
     "metadata": {},
     "output_type": "execute_result"
    }
   ],
   "source": [
    "def jon(n): \n",
    "    assert isinstance(n, int), \"please use integers\"\n",
    "    john = [0,1]\n",
    "    for x in range (1,n-1):\n",
    "        john.append(john[-1]+john[-2])\n",
    "    return john\n",
    "\n",
    "jon(5)"
   ]
  },
  {
   "cell_type": "markdown",
   "id": "4faba642",
   "metadata": {},
   "source": [
    "## Exercise 5 :  max_info() without NumPy"
   ]
  },
  {
   "cell_type": "code",
   "execution_count": 71,
   "id": "742f4eaa",
   "metadata": {},
   "outputs": [
    {
     "ename": "UnboundLocalError",
     "evalue": "local variable 'my_max' referenced before assignment",
     "output_type": "error",
     "traceback": [
      "\u001b[1;31m---------------------------------------------------------------------------\u001b[0m",
      "\u001b[1;31mUnboundLocalError\u001b[0m                         Traceback (most recent call last)",
      "Cell \u001b[1;32mIn[71], line 10\u001b[0m\n\u001b[0;32m      8\u001b[0m             \u001b[38;5;28;01melse\u001b[39;00m: \n\u001b[0;32m      9\u001b[0m                 \u001b[38;5;28mprint\u001b[39m(my_max)\n\u001b[1;32m---> 10\u001b[0m \u001b[43mmax_info\u001b[49m\u001b[43m(\u001b[49m\u001b[43mnumbers\u001b[49m\u001b[43m)\u001b[49m\n",
      "Cell \u001b[1;32mIn[71], line 5\u001b[0m, in \u001b[0;36mmax_info\u001b[1;34m(p)\u001b[0m\n\u001b[0;32m      3\u001b[0m \u001b[38;5;28;01mfor\u001b[39;00m x \u001b[38;5;129;01min\u001b[39;00m p:\n\u001b[0;32m      4\u001b[0m     \u001b[38;5;28;01mwhile\u001b[39;00m x \u001b[38;5;241m>\u001b[39m\u001b[38;5;241m=\u001b[39m \u001b[38;5;241m0\u001b[39m:\n\u001b[1;32m----> 5\u001b[0m         p[x] \u001b[38;5;241m=\u001b[39m \u001b[43mmy_max\u001b[49m\n\u001b[0;32m      6\u001b[0m         \u001b[38;5;28;01mif\u001b[39;00m my_max\u001b[38;5;241m<\u001b[39mx:\n\u001b[0;32m      7\u001b[0m             my_max \u001b[38;5;241m=\u001b[39m x\n",
      "\u001b[1;31mUnboundLocalError\u001b[0m: local variable 'my_max' referenced before assignment"
     ]
    }
   ],
   "source": [
    "numbers = [40, 27, 83, 44, 74, 51, 76, 77, 10, 49]\n",
    "def max_info(p):\n",
    "    for x in p:\n",
    "        while x >= 0:\n",
    "            p[x] = my_max\n",
    "            if my_max<x:\n",
    "                my_max = x\n",
    "            else: \n",
    "                print(my_max)\n",
    "max_info(numbers)\n",
    "            \n",
    "        "
   ]
  },
  {
   "cell_type": "markdown",
   "id": "cf968bd6",
   "metadata": {},
   "source": [
    "## Exercise 6 :  Take count"
   ]
  },
  {
   "cell_type": "code",
   "execution_count": null,
   "id": "48a36ed5",
   "metadata": {},
   "outputs": [],
   "source": [
    "\n",
    "\n",
    "\n",
    "# Your solution here\n",
    "\n",
    "\n"
   ]
  }
 ],
 "metadata": {
  "kernelspec": {
   "display_name": "Python 3 (ipykernel)",
   "language": "python",
   "name": "python3"
  },
  "language_info": {
   "codemirror_mode": {
    "name": "ipython",
    "version": 3
   },
   "file_extension": ".py",
   "mimetype": "text/x-python",
   "name": "python",
   "nbconvert_exporter": "python",
   "pygments_lexer": "ipython3",
   "version": "3.10.8"
  },
  "toc": {
   "base_numbering": 1,
   "nav_menu": {},
   "number_sections": true,
   "sideBar": true,
   "skip_h1_title": false,
   "title_cell": "Table of Contents",
   "title_sidebar": "Contents",
   "toc_cell": false,
   "toc_position": {},
   "toc_section_display": true,
   "toc_window_display": false
  },
  "vscode": {
   "interpreter": {
    "hash": "31f2aee4e71d21fbe5cf8b01ff0e069b9275f58929596ceb00d14d90e3e16cd6"
   }
  }
 },
 "nbformat": 4,
 "nbformat_minor": 5
}
